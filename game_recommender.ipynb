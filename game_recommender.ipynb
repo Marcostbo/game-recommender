{
 "cells": [
  {
   "cell_type": "code",
   "execution_count": 1,
   "id": "b8cd6ac9",
   "metadata": {},
   "outputs": [],
   "source": [
    "import numpy as np\n",
    "import pandas as pd\n",
    "import seaborn as sns"
   ]
  },
  {
   "cell_type": "code",
   "execution_count": 4,
   "id": "4e0a516f",
   "metadata": {},
   "outputs": [],
   "source": [
    "# install IGDB game database API\n",
    "install_IGDB_API = False\n",
    "if install_IGDB_API:\n",
    "    !pip install igdb-api-v4"
   ]
  },
  {
   "cell_type": "code",
   "execution_count": 6,
   "id": "76393f23",
   "metadata": {},
   "outputs": [],
   "source": [
    "client_id = 'e3a6v5rouhozjbbcjticv7t63zg5o0'\n",
    "client_secret = 'nkkhe32amgzw6bvd71upim8zdryl6c'"
   ]
  },
  {
   "cell_type": "code",
   "execution_count": 10,
   "id": "e2f82d12",
   "metadata": {},
   "outputs": [],
   "source": [
    "import requests\n",
    "client_id = client_id\n",
    "client_secret = client_secret\n",
    "\n",
    "body = {\n",
    "    'client_id': client_id,\n",
    "    'client_secret': client_secret,\n",
    "    'grant_type': 'client_credentials'\n",
    "}\n",
    "\n",
    "r = requests.post('https://id.twitch.tv/oauth2/token', body)"
   ]
  },
  {
   "cell_type": "code",
   "execution_count": 11,
   "id": "7f8a89a4",
   "metadata": {},
   "outputs": [],
   "source": [
    "# data output\n",
    "keys = r.json()"
   ]
  },
  {
   "cell_type": "code",
   "execution_count": 14,
   "id": "76f30252",
   "metadata": {},
   "outputs": [],
   "source": [
    "headers = {\n",
    "    'Client-ID': client_id,\n",
    "    'Authorization': 'Bearer ' + keys['access_token']\n",
    "}\n",
    "\n",
    "app_token = headers['Authorization']"
   ]
  },
  {
   "cell_type": "code",
   "execution_count": 68,
   "id": "38255225",
   "metadata": {},
   "outputs": [],
   "source": [
    "\"\"\"IGDB wrapper module for the api v4 with APIcalypse\"\"\"\n",
    "\n",
    "from requests import post\n",
    "from requests.models import Request, Response\n",
    "\n",
    "API_URL = \"https://api.igdb.com/v4/\"\n",
    "\n",
    "class IGDBWrapper:\n",
    "    def __init__(self, client_id:str, auth_token:str) -> None:\n",
    "        self.client_id = client_id\n",
    "        self.auth_token = auth_token\n",
    "\n",
    "    def api_request(self, endpoint:str, query:str) -> Response:\n",
    "        \"\"\"\n",
    "        Takes an endpoint and the APIcalypse query and returns the api response as a byte string.\n",
    "        \"\"\"\n",
    "        url = IGDBWrapper._build_url(endpoint)\n",
    "        params = self._compose_request(query)\n",
    "\n",
    "        response = post(url, **params)\n",
    "        response.raise_for_status()\n",
    "\n",
    "        return response\n",
    "\n",
    "    @staticmethod\n",
    "    def _build_url(endpoint:str='') -> str:\n",
    "        return ('%s%s' % (API_URL, endpoint))\n",
    "\n",
    "    def _compose_request(self, query:str) -> Request:\n",
    "        if not query:\n",
    "            raise Exception('No query provided!\\nEither provide an inline query following Apicalypse\\'s syntax or an Apicalypse object')\n",
    "       \n",
    "        request_params = {\n",
    "            'headers': {\n",
    "                'Client-ID': self.client_id,\n",
    "                'Authorization': ('Bearer %s' % (self.auth_token)),\n",
    "            }\n",
    "        }\n",
    "\n",
    "        if isinstance(query, str):\n",
    "            request_params['data'] = query\n",
    "            return request_params\n",
    "\n",
    "        raise TypeError('Incorrect type of argument \\'query\\', only Apicalypse-like strings or Apicalypse objects are allowed')"
   ]
  },
  {
   "cell_type": "code",
   "execution_count": 69,
   "id": "ab29cd79",
   "metadata": {},
   "outputs": [],
   "source": [
    "# from igdb.wrapper import IGDBWrapper\n",
    "wrapper = IGDBWrapper(headers['Client-ID'], keys['access_token'])"
   ]
  },
  {
   "cell_type": "code",
   "execution_count": 348,
   "id": "8107b562",
   "metadata": {},
   "outputs": [],
   "source": [
    "# JSON API request\n",
    "# (48, 46) API code for PS4 or XBOX ONE\n",
    "\n",
    "def get_game_data(page, page_elements):\n",
    "    byte_array = wrapper.api_request(\n",
    "                'games',\n",
    "                f'fields name, category, first_release_date, summary; offset {page*page_elements}; limit 500; where (release_dates.platform = (48, 49) & release_dates.y >= 2014);;'\n",
    "              )\n",
    "    game_data = byte_array.json()\n",
    "    return game_data"
   ]
  },
  {
   "cell_type": "code",
   "execution_count": 349,
   "id": "763a1b9f",
   "metadata": {},
   "outputs": [],
   "source": [
    "list_of_games = []\n",
    "\n",
    "flag = 1\n",
    "page = 0\n",
    "\n",
    "while flag == 1:\n",
    "    game_data = get_game_data(page=page, page_elements=10)\n",
    "    list_of_games.extend(game_data)\n",
    "    if not game_data:\n",
    "        flag = 2\n",
    "    page += 1"
   ]
  },
  {
   "cell_type": "code",
   "execution_count": 350,
   "id": "e7a2461b",
   "metadata": {},
   "outputs": [
    {
     "data": {
      "text/plain": [
       "422100"
      ]
     },
     "execution_count": 350,
     "metadata": {},
     "output_type": "execute_result"
    }
   ],
   "source": [
    "len(list_of_games)"
   ]
  },
  {
   "cell_type": "code",
   "execution_count": 352,
   "id": "c1de68b1",
   "metadata": {},
   "outputs": [],
   "source": [
    "columns=['id', 'name', 'category', 'summary']\n",
    "\n",
    "ids = []\n",
    "names = []\n",
    "\n",
    "for game in list_of_games:\n",
    "    if 'summary' in game.keys() and game['category'] == 0:\n",
    "        ids.append(game['id'])\n",
    "        names.append(game['name'])\n",
    "        summaries.append(game['summary'])"
   ]
  },
  {
   "cell_type": "code",
   "execution_count": 356,
   "id": "6edc9e25",
   "metadata": {},
   "outputs": [
    {
     "data": {
      "text/plain": [
       "299026"
      ]
     },
     "execution_count": 356,
     "metadata": {},
     "output_type": "execute_result"
    }
   ],
   "source": [
    "len(ids)"
   ]
  },
  {
   "cell_type": "code",
   "execution_count": 359,
   "id": "68f9267e",
   "metadata": {},
   "outputs": [],
   "source": [
    "game_dict = {'id': ids, 'name': names, 'summary': summaries}\n",
    "game_df = pd.DataFrame(game_dict)"
   ]
  },
  {
   "cell_type": "code",
   "execution_count": 360,
   "id": "63e367e3",
   "metadata": {},
   "outputs": [
    {
     "data": {
      "text/html": [
       "<div>\n",
       "<style scoped>\n",
       "    .dataframe tbody tr th:only-of-type {\n",
       "        vertical-align: middle;\n",
       "    }\n",
       "\n",
       "    .dataframe tbody tr th {\n",
       "        vertical-align: top;\n",
       "    }\n",
       "\n",
       "    .dataframe thead th {\n",
       "        text-align: right;\n",
       "    }\n",
       "</style>\n",
       "<table border=\"1\" class=\"dataframe\">\n",
       "  <thead>\n",
       "    <tr style=\"text-align: right;\">\n",
       "      <th></th>\n",
       "      <th>id</th>\n",
       "      <th>name</th>\n",
       "      <th>summary</th>\n",
       "    </tr>\n",
       "  </thead>\n",
       "  <tbody>\n",
       "    <tr>\n",
       "      <th>0</th>\n",
       "      <td>4</td>\n",
       "      <td>Thief</td>\n",
       "      <td>There is a rising tide of fear in The City. Ha...</td>\n",
       "    </tr>\n",
       "    <tr>\n",
       "      <th>1</th>\n",
       "      <td>18</td>\n",
       "      <td>Max Payne</td>\n",
       "      <td>Max Payne, gritty ex-cop and titular hero of t...</td>\n",
       "    </tr>\n",
       "    <tr>\n",
       "      <th>2</th>\n",
       "      <td>79</td>\n",
       "      <td>Stubbs the Zombie in Rebel Without a Pulse</td>\n",
       "      <td>The game is set in a fictional City of the Fut...</td>\n",
       "    </tr>\n",
       "    <tr>\n",
       "      <th>3</th>\n",
       "      <td>83</td>\n",
       "      <td>Baldur's Gate: Dark Alliance</td>\n",
       "      <td>Baldur’s Gate™: Dark Alliance™ is a revolution...</td>\n",
       "    </tr>\n",
       "    <tr>\n",
       "      <th>4</th>\n",
       "      <td>111</td>\n",
       "      <td>Amnesia: The Dark Descent</td>\n",
       "      <td>Amnesia: The Dark Descent is a survival horror...</td>\n",
       "    </tr>\n",
       "    <tr>\n",
       "      <th>5</th>\n",
       "      <td>117</td>\n",
       "      <td>The Last Guardian</td>\n",
       "      <td>In a strange and mystical land, a young boy di...</td>\n",
       "    </tr>\n",
       "    <tr>\n",
       "      <th>6</th>\n",
       "      <td>120</td>\n",
       "      <td>Diablo III</td>\n",
       "      <td>The game takes place in Sanctuary, the dark fa...</td>\n",
       "    </tr>\n",
       "    <tr>\n",
       "      <th>7</th>\n",
       "      <td>134</td>\n",
       "      <td>Devil May Cry</td>\n",
       "      <td>Legend has it that 2000 years ago in the depth...</td>\n",
       "    </tr>\n",
       "    <tr>\n",
       "      <th>8</th>\n",
       "      <td>135</td>\n",
       "      <td>Devil May Cry 2</td>\n",
       "      <td>Dante is back! Prepare for the next, stylish c...</td>\n",
       "    </tr>\n",
       "    <tr>\n",
       "      <th>9</th>\n",
       "      <td>148</td>\n",
       "      <td>Star Wars: Republic Commando</td>\n",
       "      <td>Chaos has erupted throughout the galaxy. As a ...</td>\n",
       "    </tr>\n",
       "    <tr>\n",
       "      <th>10</th>\n",
       "      <td>152</td>\n",
       "      <td>Star Wars: Jedi Knight II - Jedi Outcast</td>\n",
       "      <td>In the tradition of the highly acclaimed Star ...</td>\n",
       "    </tr>\n",
       "    <tr>\n",
       "      <th>11</th>\n",
       "      <td>153</td>\n",
       "      <td>Star Wars: Jedi Knight - Jedi Academy</td>\n",
       "      <td>Star Wars: Jedi Knight: Jedi Academy, of the h...</td>\n",
       "    </tr>\n",
       "    <tr>\n",
       "      <th>12</th>\n",
       "      <td>154</td>\n",
       "      <td>Star Wars: Episode I - Racer</td>\n",
       "      <td>Star Wars: Episode 1 - Racer lets you particip...</td>\n",
       "    </tr>\n",
       "    <tr>\n",
       "      <th>13</th>\n",
       "      <td>280</td>\n",
       "      <td>DOOM 3</td>\n",
       "      <td>A massive demonic invasion has overwhelmed the...</td>\n",
       "    </tr>\n",
       "    <tr>\n",
       "      <th>14</th>\n",
       "      <td>342</td>\n",
       "      <td>Duke Nukem 3D</td>\n",
       "      <td>Aliens have landed in futuristic Los Angeles a...</td>\n",
       "    </tr>\n",
       "  </tbody>\n",
       "</table>\n",
       "</div>"
      ],
      "text/plain": [
       "     id                                        name  \\\n",
       "0     4                                       Thief   \n",
       "1    18                                   Max Payne   \n",
       "2    79  Stubbs the Zombie in Rebel Without a Pulse   \n",
       "3    83                Baldur's Gate: Dark Alliance   \n",
       "4   111                   Amnesia: The Dark Descent   \n",
       "5   117                           The Last Guardian   \n",
       "6   120                                  Diablo III   \n",
       "7   134                               Devil May Cry   \n",
       "8   135                             Devil May Cry 2   \n",
       "9   148                Star Wars: Republic Commando   \n",
       "10  152    Star Wars: Jedi Knight II - Jedi Outcast   \n",
       "11  153       Star Wars: Jedi Knight - Jedi Academy   \n",
       "12  154                Star Wars: Episode I - Racer   \n",
       "13  280                                      DOOM 3   \n",
       "14  342                               Duke Nukem 3D   \n",
       "\n",
       "                                              summary  \n",
       "0   There is a rising tide of fear in The City. Ha...  \n",
       "1   Max Payne, gritty ex-cop and titular hero of t...  \n",
       "2   The game is set in a fictional City of the Fut...  \n",
       "3   Baldur’s Gate™: Dark Alliance™ is a revolution...  \n",
       "4   Amnesia: The Dark Descent is a survival horror...  \n",
       "5   In a strange and mystical land, a young boy di...  \n",
       "6   The game takes place in Sanctuary, the dark fa...  \n",
       "7   Legend has it that 2000 years ago in the depth...  \n",
       "8   Dante is back! Prepare for the next, stylish c...  \n",
       "9   Chaos has erupted throughout the galaxy. As a ...  \n",
       "10  In the tradition of the highly acclaimed Star ...  \n",
       "11  Star Wars: Jedi Knight: Jedi Academy, of the h...  \n",
       "12  Star Wars: Episode 1 - Racer lets you particip...  \n",
       "13  A massive demonic invasion has overwhelmed the...  \n",
       "14  Aliens have landed in futuristic Los Angeles a...  "
      ]
     },
     "execution_count": 360,
     "metadata": {},
     "output_type": "execute_result"
    }
   ],
   "source": [
    "game_df.head(15)"
   ]
  },
  {
   "cell_type": "code",
   "execution_count": 361,
   "id": "99268f13",
   "metadata": {},
   "outputs": [],
   "source": [
    "# remove duplicates\n",
    "new_game_df = game_df.drop_duplicates(subset='name')"
   ]
  },
  {
   "cell_type": "code",
   "execution_count": 373,
   "id": "74821b41",
   "metadata": {},
   "outputs": [
    {
     "data": {
      "text/html": [
       "<div>\n",
       "<style scoped>\n",
       "    .dataframe tbody tr th:only-of-type {\n",
       "        vertical-align: middle;\n",
       "    }\n",
       "\n",
       "    .dataframe tbody tr th {\n",
       "        vertical-align: top;\n",
       "    }\n",
       "\n",
       "    .dataframe thead th {\n",
       "        text-align: right;\n",
       "    }\n",
       "</style>\n",
       "<table border=\"1\" class=\"dataframe\">\n",
       "  <thead>\n",
       "    <tr style=\"text-align: right;\">\n",
       "      <th></th>\n",
       "      <th>id</th>\n",
       "      <th>name</th>\n",
       "      <th>summary</th>\n",
       "    </tr>\n",
       "  </thead>\n",
       "  <tbody>\n",
       "    <tr>\n",
       "      <th>42345</th>\n",
       "      <td>19560</td>\n",
       "      <td>God of War</td>\n",
       "      <td>\"It is a new beginning for Kratos. Living as a...</td>\n",
       "    </tr>\n",
       "    <tr>\n",
       "      <th>146886</th>\n",
       "      <td>83778</td>\n",
       "      <td>God of War: Stone Mason's Edition</td>\n",
       "      <td>Stone Mason Edition Includes:\\n\\n9\" Kratos &amp; A...</td>\n",
       "    </tr>\n",
       "    <tr>\n",
       "      <th>147229</th>\n",
       "      <td>83824</td>\n",
       "      <td>God of War: Collector's Edition</td>\n",
       "      <td>The game was released worldwide on April 20, 2...</td>\n",
       "    </tr>\n",
       "    <tr>\n",
       "      <th>185975</th>\n",
       "      <td>112875</td>\n",
       "      <td>God of War: Ragnarok</td>\n",
       "      <td>God of War: Ragnarök is the tentative title fo...</td>\n",
       "    </tr>\n",
       "    <tr>\n",
       "      <th>192140</th>\n",
       "      <td>115067</td>\n",
       "      <td>God of War: Limited Edition</td>\n",
       "      <td>Limited Edition contains:\\n- Steelbook Case\\n-...</td>\n",
       "    </tr>\n",
       "  </tbody>\n",
       "</table>\n",
       "</div>"
      ],
      "text/plain": [
       "            id                               name  \\\n",
       "42345    19560                         God of War   \n",
       "146886   83778  God of War: Stone Mason's Edition   \n",
       "147229   83824    God of War: Collector's Edition   \n",
       "185975  112875               God of War: Ragnarok   \n",
       "192140  115067        God of War: Limited Edition   \n",
       "\n",
       "                                                  summary  \n",
       "42345   \"It is a new beginning for Kratos. Living as a...  \n",
       "146886  Stone Mason Edition Includes:\\n\\n9\" Kratos & A...  \n",
       "147229  The game was released worldwide on April 20, 2...  \n",
       "185975  God of War: Ragnarök is the tentative title fo...  \n",
       "192140  Limited Edition contains:\\n- Steelbook Case\\n-...  "
      ]
     },
     "execution_count": 373,
     "metadata": {},
     "output_type": "execute_result"
    }
   ],
   "source": [
    "new_game_df[new_game_df['summary'].str.contains(\"Kratos\")]"
   ]
  },
  {
   "cell_type": "code",
   "execution_count": 374,
   "id": "aa14d4b7",
   "metadata": {},
   "outputs": [
    {
     "data": {
      "text/html": [
       "<div>\n",
       "<style scoped>\n",
       "    .dataframe tbody tr th:only-of-type {\n",
       "        vertical-align: middle;\n",
       "    }\n",
       "\n",
       "    .dataframe tbody tr th {\n",
       "        vertical-align: top;\n",
       "    }\n",
       "\n",
       "    .dataframe thead th {\n",
       "        text-align: right;\n",
       "    }\n",
       "</style>\n",
       "<table border=\"1\" class=\"dataframe\">\n",
       "  <thead>\n",
       "    <tr style=\"text-align: right;\">\n",
       "      <th></th>\n",
       "      <th>id</th>\n",
       "      <th>name</th>\n",
       "      <th>summary</th>\n",
       "    </tr>\n",
       "  </thead>\n",
       "  <tbody>\n",
       "    <tr>\n",
       "      <th>68112</th>\n",
       "      <td>26192</td>\n",
       "      <td>The Last of Us Part II</td>\n",
       "      <td>Set 5 years after the events of The Last of Us...</td>\n",
       "    </tr>\n",
       "    <tr>\n",
       "      <th>230847</th>\n",
       "      <td>130577</td>\n",
       "      <td>Little Witch in the Woods</td>\n",
       "      <td>In the 'LUCEREIN ORTU', witches live together....</td>\n",
       "    </tr>\n",
       "    <tr>\n",
       "      <th>240603</th>\n",
       "      <td>135955</td>\n",
       "      <td>The Last of Us Part II: Collector's Edition</td>\n",
       "      <td>Set 5 years after the events of The Last of Us...</td>\n",
       "    </tr>\n",
       "  </tbody>\n",
       "</table>\n",
       "</div>"
      ],
      "text/plain": [
       "            id                                         name  \\\n",
       "68112    26192                       The Last of Us Part II   \n",
       "230847  130577                    Little Witch in the Woods   \n",
       "240603  135955  The Last of Us Part II: Collector's Edition   \n",
       "\n",
       "                                                  summary  \n",
       "68112   Set 5 years after the events of The Last of Us...  \n",
       "230847  In the 'LUCEREIN ORTU', witches live together....  \n",
       "240603  Set 5 years after the events of The Last of Us...  "
      ]
     },
     "execution_count": 374,
     "metadata": {},
     "output_type": "execute_result"
    }
   ],
   "source": [
    "new_game_df[new_game_df['summary'].str.contains(\"Ellie\")]"
   ]
  },
  {
   "cell_type": "code",
   "execution_count": 375,
   "id": "1b6c735b",
   "metadata": {},
   "outputs": [
    {
     "data": {
      "text/html": [
       "<div>\n",
       "<style scoped>\n",
       "    .dataframe tbody tr th:only-of-type {\n",
       "        vertical-align: middle;\n",
       "    }\n",
       "\n",
       "    .dataframe tbody tr th {\n",
       "        vertical-align: top;\n",
       "    }\n",
       "\n",
       "    .dataframe thead th {\n",
       "        text-align: right;\n",
       "    }\n",
       "</style>\n",
       "<table border=\"1\" class=\"dataframe\">\n",
       "  <thead>\n",
       "    <tr style=\"text-align: right;\">\n",
       "      <th></th>\n",
       "      <th>id</th>\n",
       "      <th>name</th>\n",
       "      <th>summary</th>\n",
       "    </tr>\n",
       "  </thead>\n",
       "  <tbody>\n",
       "    <tr>\n",
       "      <th>237</th>\n",
       "      <td>5503</td>\n",
       "      <td>Batman: Arkham Knight</td>\n",
       "      <td>Batman: Arkham Knight brings the award-winning...</td>\n",
       "    </tr>\n",
       "    <tr>\n",
       "      <th>372</th>\n",
       "      <td>7685</td>\n",
       "      <td>LEGO Batman 3: Beyond Gotham</td>\n",
       "      <td>In LEGO Batman 3: Beyond Gotham, the Caped Cru...</td>\n",
       "    </tr>\n",
       "    <tr>\n",
       "      <th>24833</th>\n",
       "      <td>14746</td>\n",
       "      <td>Batman: The Telltale Series</td>\n",
       "      <td>Enter the fractured psyche of Bruce Wayne and ...</td>\n",
       "    </tr>\n",
       "    <tr>\n",
       "      <th>42348</th>\n",
       "      <td>19563</td>\n",
       "      <td>Batman: Arkham VR</td>\n",
       "      <td>Your quest to clean up Gotham has only just be...</td>\n",
       "    </tr>\n",
       "    <tr>\n",
       "      <th>111498</th>\n",
       "      <td>51525</td>\n",
       "      <td>Batman: The Enemy Within</td>\n",
       "      <td>In this latest chapter, both Bruce Wayne and B...</td>\n",
       "    </tr>\n",
       "    <tr>\n",
       "      <th>288153</th>\n",
       "      <td>164684</td>\n",
       "      <td>LEGO Batman 3: Beyond Gotham - Deluxe Edition</td>\n",
       "      <td>The Caped Crusader joins forces with the super...</td>\n",
       "    </tr>\n",
       "  </tbody>\n",
       "</table>\n",
       "</div>"
      ],
      "text/plain": [
       "            id                                           name  \\\n",
       "237       5503                          Batman: Arkham Knight   \n",
       "372       7685                   LEGO Batman 3: Beyond Gotham   \n",
       "24833    14746                    Batman: The Telltale Series   \n",
       "42348    19563                              Batman: Arkham VR   \n",
       "111498   51525                       Batman: The Enemy Within   \n",
       "288153  164684  LEGO Batman 3: Beyond Gotham - Deluxe Edition   \n",
       "\n",
       "                                                  summary  \n",
       "237     Batman: Arkham Knight brings the award-winning...  \n",
       "372     In LEGO Batman 3: Beyond Gotham, the Caped Cru...  \n",
       "24833   Enter the fractured psyche of Bruce Wayne and ...  \n",
       "42348   Your quest to clean up Gotham has only just be...  \n",
       "111498  In this latest chapter, both Bruce Wayne and B...  \n",
       "288153  The Caped Crusader joins forces with the super...  "
      ]
     },
     "execution_count": 375,
     "metadata": {},
     "output_type": "execute_result"
    }
   ],
   "source": [
    "new_game_df[new_game_df['name'].str.contains(\"Batman\")]"
   ]
  },
  {
   "cell_type": "code",
   "execution_count": 365,
   "id": "1ba0234c",
   "metadata": {},
   "outputs": [],
   "source": [
    "new_game_df.to_csv('new_game_data.csv')"
   ]
  },
  {
   "cell_type": "code",
   "execution_count": 366,
   "id": "951e9959",
   "metadata": {},
   "outputs": [],
   "source": [
    "game_df = pd.read_csv('new_game_data.csv')\n",
    "game_df = game_df.drop(columns='Unnamed: 0')"
   ]
  },
  {
   "cell_type": "code",
   "execution_count": 367,
   "id": "90db62c8",
   "metadata": {},
   "outputs": [
    {
     "data": {
      "text/html": [
       "<div>\n",
       "<style scoped>\n",
       "    .dataframe tbody tr th:only-of-type {\n",
       "        vertical-align: middle;\n",
       "    }\n",
       "\n",
       "    .dataframe tbody tr th {\n",
       "        vertical-align: top;\n",
       "    }\n",
       "\n",
       "    .dataframe thead th {\n",
       "        text-align: right;\n",
       "    }\n",
       "</style>\n",
       "<table border=\"1\" class=\"dataframe\">\n",
       "  <thead>\n",
       "    <tr style=\"text-align: right;\">\n",
       "      <th></th>\n",
       "      <th>id</th>\n",
       "      <th>name</th>\n",
       "      <th>summary</th>\n",
       "    </tr>\n",
       "  </thead>\n",
       "  <tbody>\n",
       "    <tr>\n",
       "      <th>0</th>\n",
       "      <td>4</td>\n",
       "      <td>Thief</td>\n",
       "      <td>There is a rising tide of fear in The City. Ha...</td>\n",
       "    </tr>\n",
       "    <tr>\n",
       "      <th>1</th>\n",
       "      <td>18</td>\n",
       "      <td>Max Payne</td>\n",
       "      <td>Max Payne, gritty ex-cop and titular hero of t...</td>\n",
       "    </tr>\n",
       "    <tr>\n",
       "      <th>2</th>\n",
       "      <td>79</td>\n",
       "      <td>Stubbs the Zombie in Rebel Without a Pulse</td>\n",
       "      <td>The game is set in a fictional City of the Fut...</td>\n",
       "    </tr>\n",
       "    <tr>\n",
       "      <th>3</th>\n",
       "      <td>83</td>\n",
       "      <td>Baldur's Gate: Dark Alliance</td>\n",
       "      <td>Baldur’s Gate™: Dark Alliance™ is a revolution...</td>\n",
       "    </tr>\n",
       "    <tr>\n",
       "      <th>4</th>\n",
       "      <td>111</td>\n",
       "      <td>Amnesia: The Dark Descent</td>\n",
       "      <td>Amnesia: The Dark Descent is a survival horror...</td>\n",
       "    </tr>\n",
       "  </tbody>\n",
       "</table>\n",
       "</div>"
      ],
      "text/plain": [
       "    id                                        name  \\\n",
       "0    4                                       Thief   \n",
       "1   18                                   Max Payne   \n",
       "2   79  Stubbs the Zombie in Rebel Without a Pulse   \n",
       "3   83                Baldur's Gate: Dark Alliance   \n",
       "4  111                   Amnesia: The Dark Descent   \n",
       "\n",
       "                                             summary  \n",
       "0  There is a rising tide of fear in The City. Ha...  \n",
       "1  Max Payne, gritty ex-cop and titular hero of t...  \n",
       "2  The game is set in a fictional City of the Fut...  \n",
       "3  Baldur’s Gate™: Dark Alliance™ is a revolution...  \n",
       "4  Amnesia: The Dark Descent is a survival horror...  "
      ]
     },
     "execution_count": 367,
     "metadata": {},
     "output_type": "execute_result"
    }
   ],
   "source": [
    "game_df.head()"
   ]
  },
  {
   "cell_type": "markdown",
   "id": "0af32abf",
   "metadata": {},
   "source": [
    "## Content Based Recommender System"
   ]
  },
  {
   "cell_type": "code",
   "execution_count": 376,
   "id": "dbaaea51",
   "metadata": {},
   "outputs": [],
   "source": [
    "from sklearn.feature_extraction.text import TfidfVectorizer\n",
    "from sklearn.metrics.pairwise import linear_kernel"
   ]
  },
  {
   "cell_type": "code",
   "execution_count": 377,
   "id": "82cab0be",
   "metadata": {},
   "outputs": [],
   "source": [
    "tf = TfidfVectorizer(analyzer='word', ngram_range=(1, 3), min_df=0, stop_words='english')\n",
    "tfidf_matrix = tf.fit_transform(game_df['summary'])"
   ]
  },
  {
   "cell_type": "code",
   "execution_count": 378,
   "id": "cdd1e16a",
   "metadata": {},
   "outputs": [
    {
     "data": {
      "text/plain": [
       "<6197x428146 sparse matrix of type '<class 'numpy.float64'>'\n",
       "\twith 690778 stored elements in Compressed Sparse Row format>"
      ]
     },
     "execution_count": 378,
     "metadata": {},
     "output_type": "execute_result"
    }
   ],
   "source": [
    "tfidf_matrix"
   ]
  },
  {
   "cell_type": "code",
   "execution_count": 379,
   "id": "7e222d2b",
   "metadata": {},
   "outputs": [],
   "source": [
    "cosine_similarities = linear_kernel(tfidf_matrix, tfidf_matrix) \n",
    "results = {}\n",
    "\n",
    "for idx, row in game_df.iterrows():\n",
    "   similar_indices = cosine_similarities[idx].argsort()[:-100:-1] \n",
    "   similar_items = [(cosine_similarities[idx][i], game_df['id'][i]) for i in similar_indices] \n",
    "   results[row['id']] = similar_items[1:]"
   ]
  },
  {
   "cell_type": "code",
   "execution_count": 380,
   "id": "39ea21cd",
   "metadata": {},
   "outputs": [],
   "source": [
    "def item_name(id):\n",
    "    return game_df.loc[game_df['id'] == id]['name']"
   ]
  },
  {
   "cell_type": "code",
   "execution_count": 381,
   "id": "080efbaa",
   "metadata": {},
   "outputs": [],
   "source": [
    "def recommend(item_id, num):\n",
    "    print(\"Recommending \" + str(num) + \" products similar to \" + item_name(item_id) + \"...\")\n",
    "    print(\"-------\")\n",
    "    recs = results[item_id][:num]\n",
    "    for rec in recs:\n",
    "        print(f\"Recommended: {item_name(rec[1])}\")"
   ]
  },
  {
   "cell_type": "code",
   "execution_count": 384,
   "id": "b92f1cec",
   "metadata": {},
   "outputs": [
    {
     "name": "stdout",
     "output_type": "stream",
     "text": [
      "1276    Recommending 20 products similar to God of War...\n",
      "Name: name, dtype: object\n",
      "-------\n",
      "Recommended: 4230    God of War: Limited Edition\n",
      "Name: name, dtype: object\n",
      "Recommended: 3329    God of War: Stone Mason's Edition\n",
      "Name: name, dtype: object\n",
      "Recommended: 3332    God of War: Collector's Edition\n",
      "Name: name, dtype: object\n",
      "Recommended: 4113    God of War: Ragnarok\n",
      "Name: name, dtype: object\n",
      "Recommended: 1123    Jotun: Valhalla Edition\n",
      "Name: name, dtype: object\n",
      "Recommended: 1628    Kingdom: New Lands\n",
      "Name: name, dtype: object\n",
      "Recommended: 2491    Die for Valhalla!\n",
      "Name: name, dtype: object\n",
      "Recommended: 3052    The Colonists\n",
      "Name: name, dtype: object\n",
      "Recommended: 2738    Shadow Warrior Collection\n",
      "Name: name, dtype: object\n",
      "Recommended: 5993    Gods Will Fall: Valiant Edition\n",
      "Name: name, dtype: object\n",
      "Recommended: 336    Mass Effect: Andromeda\n",
      "Name: name, dtype: object\n",
      "Recommended: 5419    Immortals Fenyx Rising: Limited Edition\n",
      "Name: name, dtype: object\n",
      "Recommended: 3317    Outbreak Bundle\n",
      "Name: name, dtype: object\n",
      "Recommended: 2131    Fear Effect Sedna\n",
      "Name: name, dtype: object\n",
      "Recommended: 1183    Northgard\n",
      "Name: name, dtype: object\n",
      "Recommended: 4373    Remothered: Broken Porcelain\n",
      "Name: name, dtype: object\n",
      "Recommended: 4549    Cris Tales\n",
      "Name: name, dtype: object\n",
      "Recommended: 3540    Eternity: The Last Unicorn\n",
      "Name: name, dtype: object\n",
      "Recommended: 4315    Eldest Souls\n",
      "Name: name, dtype: object\n",
      "Recommended: 3958    CARAVAN STORIES\n",
      "Name: name, dtype: object\n"
     ]
    }
   ],
   "source": [
    "recommend(item_id=19560, num=20)"
   ]
  }
 ],
 "metadata": {
  "kernelspec": {
   "display_name": "Python 3",
   "language": "python",
   "name": "python3"
  },
  "language_info": {
   "codemirror_mode": {
    "name": "ipython",
    "version": 3
   },
   "file_extension": ".py",
   "mimetype": "text/x-python",
   "name": "python",
   "nbconvert_exporter": "python",
   "pygments_lexer": "ipython3",
   "version": "3.8.10"
  }
 },
 "nbformat": 4,
 "nbformat_minor": 5
}
